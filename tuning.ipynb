{
 "cells": [
  {
   "cell_type": "code",
   "execution_count": 1,
   "metadata": {},
   "outputs": [],
   "source": [
    "import sys\n",
    "sys.path.insert(0, \"/home/asher/Documents/Research/Knockoff/adaptive/knockadapt\")\n",
    "import knockadapt\n",
    "from knockadapt.knockoff_stats import group_lasso_LCD, calc_nongroup_LSM, group_lasso_LSM"
   ]
  },
  {
   "cell_type": "code",
   "execution_count": 2,
   "metadata": {},
   "outputs": [],
   "source": [
    "import numpy as np\n",
    "import pandas as pd\n",
    "from scipy import stats\n",
    "import scipy.cluster.hierarchy as hierarchy\n",
    "\n",
    "import seaborn as sns\n",
    "import matplotlib.pyplot as plt\n",
    "\n",
    "import os\n",
    "import experiments\n"
   ]
  },
  {
   "cell_type": "code",
   "execution_count": 3,
   "metadata": {},
   "outputs": [],
   "source": [
    "import warnings\n",
    "warnings.filterwarnings(\"ignore\")\n",
    "from plotnine import *\n",
    "warnings.simplefilter(\"always\")"
   ]
  },
  {
   "cell_type": "code",
   "execution_count": 4,
   "metadata": {},
   "outputs": [],
   "source": [
    "# Plotting/saving function\n",
    "def plot_measurement_type(melted_results, \n",
    "                          method_means,\n",
    "                          meas_type = 'power',\n",
    "                          fname = None,\n",
    "                          hline = None):\n",
    "\n",
    "    results = melted_results.loc[melted_results['measurement'] == meas_type]\n",
    "    results = results.rename(columns = {'value':meas_type})\n",
    "\n",
    "    g1 = (\n",
    "        ggplot(results, aes(\n",
    "            x = 'feature_fn', y = meas_type, fill = 'split_type')\n",
    "        )\n",
    "        + geom_boxplot(position='dodge')\n",
    "        + facet_grid('~link_method')\n",
    "    )\n",
    "    if hline is not None:\n",
    "        g1 = g1 + hline\n",
    "    \n",
    "    if fname is not None:\n",
    "        g1 = g1 + labs(title = fname)\n",
    "        fname1 = fname + '_' + meas_type + '_v1.SVG'\n",
    "        g1.save(fname1)\n",
    "    print(g1)\n",
    "    \n",
    "    g2 = (\n",
    "        ggplot(results, aes(\n",
    "            x = 'feature_fn', y = meas_type, fill = 'split_type')\n",
    "        )\n",
    "        + stat_summary(geom = 'col', position=position_dodge(width=0.9))\n",
    "        + stat_summary(geom = \"errorbar\", fun_data = 'mean_cl_boot',\n",
    "                        position=position_dodge(width=0.9))\n",
    "        + facet_grid('~link_method')\n",
    "    )\n",
    "    \n",
    "    if hline is not None:\n",
    "        g2 = g2 + hline\n",
    "        \n",
    "    if fname is not None:\n",
    "        g2 = g2 + labs(title = fname)\n",
    "        fname2 = fname + '_' + meas_type + '_v2.SVG'\n",
    "        g2.save(fname2)        \n",
    "    print(g2)"
   ]
  },
  {
   "cell_type": "code",
   "execution_count": 19,
   "metadata": {},
   "outputs": [],
   "source": [
    "seed = 110\n",
    "default_sample_kwargs = {'coeff_size':10, 'method':'AR1', 'a':5, 'b':1}\n",
    "S_kwargs = {\n",
    "    'objective':'norm', 'norm_type':2, 'verbose':True, 'sdp_verbose':False\n",
    "}\n",
    "S_methods = [#('SDP', {}), \n",
    "             ('ASDP5', {'method':'ASDP', 'alpha':5,}),\n",
    "             ('ASDP10', {'method':'ASDP', 'alpha':10,})]\n",
    "link_methods = ['average']*len(S_methods)\n",
    "\n",
    "\n",
    "\n",
    "def main(n, p, \n",
    "         q = 0.25, \n",
    "         seed = seed,\n",
    "         num_datasets = 5,\n",
    "         sample_kwargs = default_sample_kwargs):\n",
    "    \n",
    "    # Generate corr_matrix, Q\n",
    "    np.random.seed(seed)\n",
    "    X0, y0, beta, Q, corr_matrix = knockadapt.graphs.sample_data(\n",
    "        n = n, p = p, **sample_kwargs\n",
    "    )\n",
    "    \n",
    "    # Run method comparison function\n",
    "    output = experiments.compare_methods(\n",
    "        corr_matrix, \n",
    "        beta, \n",
    "        Q = Q, \n",
    "        n = n,\n",
    "        q = q, \n",
    "        S_methods = S_methods,\n",
    "        feature_fns = {'LSM':calc_nongroup_LSM, 'group_LCD':group_lasso_LCD},\n",
    "                       #'group_LSM':group_lasso_LSM},\n",
    "        link_methods = link_methods,\n",
    "        S_kwargs = S_kwargs,\n",
    "        num_data_samples = num_datasets,\n",
    "    )\n",
    "\n",
    "    melted_results, oracle_results, S_matrixes = output\n",
    "    id_vars = ['link_method', 'feature_fn', 'split_type', 'measurement']\n",
    "    method_means = melted_results.groupby(id_vars)['value'].mean().reset_index()\n",
    "    \n",
    "    # Construct a (long) file name\n",
    "    fname = f'figures/ASDP/seed{seed}_n{n}_p{p}_N{num_datasets}/'\n",
    "    if not os.path.exists(fname):\n",
    "        os.makedirs(fname)\n",
    "    sample_string = [\n",
    "        ('').join([k.replace('_', ''), str(sample_kwargs[k])]) for k in sample_kwargs\n",
    "    ]\n",
    "    sample_string = ('_').join(sample_string)\n",
    "    fname += sample_string\n",
    "    \n",
    "    # Save CSV\n",
    "    fname_csv = fname + '.csv'\n",
    "    melted_results.to_csv(fname_csv)\n",
    "    \n",
    "    # Plot and save\n",
    "    plot_measurement_type(melted_results, \n",
    "                          method_means,\n",
    "                          meas_type = 'power', \n",
    "                          fname = fname)\n",
    "    hline = geom_hline(aes(yintercept = q), \n",
    "                       linetype=\"dashed\",\n",
    "                       color = \"red\")\n",
    "    plot_measurement_type(melted_results, \n",
    "                          method_means,\n",
    "                          meas_type = 'fdr',\n",
    "                          hline = hline,\n",
    "                          fname = fname)"
   ]
  },
  {
   "cell_type": "code",
   "execution_count": 6,
   "metadata": {
    "scrolled": true
   },
   "outputs": [],
   "source": [
    "# main(n = 100, p = 50, seed = seed, num_datasets = 20, q = 0.25)"
   ]
  },
  {
   "cell_type": "code",
   "execution_count": 7,
   "metadata": {},
   "outputs": [],
   "source": [
    "# main(n = 100, p = 50, seed = 111, num_datasets = 20, q = 0.25)"
   ]
  },
  {
   "cell_type": "code",
   "execution_count": 8,
   "metadata": {},
   "outputs": [],
   "source": [
    "# main(n = 100, p = 50, seed = 110, num_datasets = 30, q = 0.25)"
   ]
  },
  {
   "cell_type": "code",
   "execution_count": 9,
   "metadata": {},
   "outputs": [],
   "source": [
    "# sample_kwargs = {'coeff_size':3, 'method':'AR1', 'a':5, 'b':1}\n",
    "# main(n = 100, p = 50, seed = 110, num_datasets = 30, q = 0.25,\n",
    "#      sample_kwargs = sample_kwargs)"
   ]
  },
  {
   "cell_type": "code",
   "execution_count": 10,
   "metadata": {},
   "outputs": [],
   "source": [
    "# sample_kwargs = {'coeff_size':10, 'method':'AR1', 'a':1, 'b':1}\n",
    "# main(n = 100, p = 50, seed = 110, num_datasets = 30, q = 0.25,\n",
    "#      sample_kwargs = sample_kwargs)"
   ]
  },
  {
   "cell_type": "code",
   "execution_count": 21,
   "metadata": {},
   "outputs": [
    {
     "name": "stdout",
     "output_type": "stream",
     "text": [
      "{'ASDP5_ASDP5_average': 'ASDP5_average', 'ASDP10_ASDP10_average': 'ASDP10_average'}\n",
      "['ASDP5_ASDP5_average', 'ASDP10_ASDP10_average']\n"
     ]
    },
    {
     "ename": "ValueError",
     "evalue": "Only \"single\", \"complete\", \"average\" are valid methods, not ASDP5_average",
     "output_type": "error",
     "traceback": [
      "\u001b[0;31m---------------------------------------------------------------------------\u001b[0m",
      "\u001b[0;31mValueError\u001b[0m                                Traceback (most recent call last)",
      "\u001b[0;32m<ipython-input-21-53d026c8b53b>\u001b[0m in \u001b[0;36m<module>\u001b[0;34m\u001b[0m\n\u001b[1;32m      1\u001b[0m \u001b[0;31m# sample_kwargs = {'coeff_size':10, 'method':'AR1'}\u001b[0m\u001b[0;34m\u001b[0m\u001b[0;34m\u001b[0m\u001b[0;34m\u001b[0m\u001b[0m\n\u001b[1;32m      2\u001b[0m main(n = 100, p = 100,seed = 111, num_datasets = 20, q = 0.25,\n\u001b[0;32m----> 3\u001b[0;31m      sample_kwargs = sample_kwargs)\n\u001b[0m",
      "\u001b[0;32m<ipython-input-19-859067cd8554>\u001b[0m in \u001b[0;36mmain\u001b[0;34m(n, p, q, seed, num_datasets, sample_kwargs)\u001b[0m\n\u001b[1;32m     35\u001b[0m         \u001b[0mlink_methods\u001b[0m \u001b[0;34m=\u001b[0m \u001b[0mlink_methods\u001b[0m\u001b[0;34m,\u001b[0m\u001b[0;34m\u001b[0m\u001b[0;34m\u001b[0m\u001b[0m\n\u001b[1;32m     36\u001b[0m         \u001b[0mS_kwargs\u001b[0m \u001b[0;34m=\u001b[0m \u001b[0mS_kwargs\u001b[0m\u001b[0;34m,\u001b[0m\u001b[0;34m\u001b[0m\u001b[0;34m\u001b[0m\u001b[0m\n\u001b[0;32m---> 37\u001b[0;31m         \u001b[0mnum_data_samples\u001b[0m \u001b[0;34m=\u001b[0m \u001b[0mnum_datasets\u001b[0m\u001b[0;34m,\u001b[0m\u001b[0;34m\u001b[0m\u001b[0;34m\u001b[0m\u001b[0m\n\u001b[0m\u001b[1;32m     38\u001b[0m     )\n\u001b[1;32m     39\u001b[0m \u001b[0;34m\u001b[0m\u001b[0m\n",
      "\u001b[0;32m~/Documents/Research/Knockoff/adaptive/experiments/experiments.py\u001b[0m in \u001b[0;36mcompare_methods\u001b[0;34m(corr_matrix, beta, Q, n, q, num_data_samples, link_methods, S_methods, split, sample_kwargs, feature_fns, S_kwargs, copies, seed, reduction)\u001b[0m\n\u001b[1;32m    253\u001b[0m         link_method:knockadapt.graphs.create_correlation_tree(\n\u001b[1;32m    254\u001b[0m             \u001b[0mcorr_matrix\u001b[0m\u001b[0;34m,\u001b[0m \u001b[0mmethod\u001b[0m \u001b[0;34m=\u001b[0m \u001b[0mlink_method_dict\u001b[0m\u001b[0;34m[\u001b[0m\u001b[0mlink_method\u001b[0m\u001b[0;34m]\u001b[0m\u001b[0;34m\u001b[0m\u001b[0;34m\u001b[0m\u001b[0m\n\u001b[0;32m--> 255\u001b[0;31m         ) for link_method in link_methods\n\u001b[0m\u001b[1;32m    256\u001b[0m     }\n\u001b[1;32m    257\u001b[0m \u001b[0;34m\u001b[0m\u001b[0m\n",
      "\u001b[0;32m~/Documents/Research/Knockoff/adaptive/experiments/experiments.py\u001b[0m in \u001b[0;36m<dictcomp>\u001b[0;34m(.0)\u001b[0m\n\u001b[1;32m    253\u001b[0m         link_method:knockadapt.graphs.create_correlation_tree(\n\u001b[1;32m    254\u001b[0m             \u001b[0mcorr_matrix\u001b[0m\u001b[0;34m,\u001b[0m \u001b[0mmethod\u001b[0m \u001b[0;34m=\u001b[0m \u001b[0mlink_method_dict\u001b[0m\u001b[0;34m[\u001b[0m\u001b[0mlink_method\u001b[0m\u001b[0;34m]\u001b[0m\u001b[0;34m\u001b[0m\u001b[0;34m\u001b[0m\u001b[0m\n\u001b[0;32m--> 255\u001b[0;31m         ) for link_method in link_methods\n\u001b[0m\u001b[1;32m    256\u001b[0m     }\n\u001b[1;32m    257\u001b[0m \u001b[0;34m\u001b[0m\u001b[0m\n",
      "\u001b[0;32m~/Documents/Research/Knockoff/adaptive/knockadapt/knockadapt/graphs.py\u001b[0m in \u001b[0;36mcreate_correlation_tree\u001b[0;34m(corr_matrix, method)\u001b[0m\n\u001b[1;32m    103\u001b[0m         \u001b[0mlink\u001b[0m \u001b[0;34m=\u001b[0m \u001b[0mhierarchy\u001b[0m\u001b[0;34m.\u001b[0m\u001b[0mcomplete\u001b[0m\u001b[0;34m(\u001b[0m\u001b[0mcondensed_dist_matrix\u001b[0m\u001b[0;34m)\u001b[0m\u001b[0;34m\u001b[0m\u001b[0;34m\u001b[0m\u001b[0m\n\u001b[1;32m    104\u001b[0m     \u001b[0;32melse\u001b[0m\u001b[0;34m:\u001b[0m\u001b[0;34m\u001b[0m\u001b[0;34m\u001b[0m\u001b[0m\n\u001b[0;32m--> 105\u001b[0;31m         \u001b[0;32mraise\u001b[0m \u001b[0mValueError\u001b[0m\u001b[0;34m(\u001b[0m\u001b[0;34mf'Only \"single\", \"complete\", \"average\" are valid methods, not {method}'\u001b[0m\u001b[0;34m)\u001b[0m\u001b[0;34m\u001b[0m\u001b[0;34m\u001b[0m\u001b[0m\n\u001b[0m\u001b[1;32m    106\u001b[0m \u001b[0;34m\u001b[0m\u001b[0m\n\u001b[1;32m    107\u001b[0m \u001b[0;34m\u001b[0m\u001b[0m\n",
      "\u001b[0;31mValueError\u001b[0m: Only \"single\", \"complete\", \"average\" are valid methods, not ASDP5_average"
     ]
    }
   ],
   "source": [
    "# sample_kwargs = {'coeff_size':10, 'method':'AR1'}\n",
    "main(n = 100, p = 100,seed = 111, num_datasets = 20, q = 0.25,\n",
    "     sample_kwargs = sample_kwargs)"
   ]
  },
  {
   "cell_type": "code",
   "execution_count": 12,
   "metadata": {},
   "outputs": [],
   "source": [
    "# sample_kwargs = {'coeff_size':10, 'method':'ErdosRenyi'}\n",
    "# main(n = 100, p = 100, seed = 110, num_datasets = 30, q = 0.25,\n",
    "#      sample_kwargs = sample_kwargs)"
   ]
  }
 ],
 "metadata": {
  "kernelspec": {
   "display_name": "Python 3",
   "language": "python",
   "name": "python3"
  },
  "language_info": {
   "codemirror_mode": {
    "name": "ipython",
    "version": 3
   },
   "file_extension": ".py",
   "mimetype": "text/x-python",
   "name": "python",
   "nbconvert_exporter": "python",
   "pygments_lexer": "ipython3",
   "version": "3.6.8"
  }
 },
 "nbformat": 4,
 "nbformat_minor": 2
}
